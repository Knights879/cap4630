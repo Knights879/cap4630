{
  "nbformat": 4,
  "nbformat_minor": 0,
  "metadata": {
    "colab": {
      "name": "hw1p3.ipynb",
      "provenance": [],
      "collapsed_sections": []
    },
    "kernelspec": {
      "name": "python3",
      "display_name": "Python 3"
    }
  },
  "cells": [
    {
      "cell_type": "code",
      "metadata": {
        "id": "c3yMOzmQjB9B",
        "colab_type": "code",
        "colab": {}
      },
      "source": [
        "import numpy as np\n",
        "import matplotlib.pyplot as plt\n",
        "from keras.datasets import mnist\n",
        "\n",
        "(train_images, train_labels), (test_images, test_labels) = mnist.load_data()"
      ],
      "execution_count": 0,
      "outputs": []
    },
    {
      "cell_type": "code",
      "metadata": {
        "id": "4lZt90wbkh-l",
        "colab_type": "code",
        "colab": {
          "base_uri": "https://localhost:8080/",
          "height": 34
        },
        "outputId": "483187e1-2197-43a4-eb08-a929c26f650b"
      },
      "source": [
        "train_images.shape"
      ],
      "execution_count": 19,
      "outputs": [
        {
          "output_type": "execute_result",
          "data": {
            "text/plain": [
              "(60000, 28, 28)"
            ]
          },
          "metadata": {
            "tags": []
          },
          "execution_count": 19
        }
      ]
    },
    {
      "cell_type": "code",
      "metadata": {
        "id": "cASLT4Yokh0Q",
        "colab_type": "code",
        "colab": {
          "base_uri": "https://localhost:8080/",
          "height": 34
        },
        "outputId": "b5b66fd2-b31d-43eb-d462-35696487000a"
      },
      "source": [
        "len(train_images)"
      ],
      "execution_count": 20,
      "outputs": [
        {
          "output_type": "execute_result",
          "data": {
            "text/plain": [
              "60000"
            ]
          },
          "metadata": {
            "tags": []
          },
          "execution_count": 20
        }
      ]
    },
    {
      "cell_type": "code",
      "metadata": {
        "id": "AluIgOlGkg9z",
        "colab_type": "code",
        "colab": {
          "base_uri": "https://localhost:8080/",
          "height": 34
        },
        "outputId": "b480f0a5-f490-44d6-a855-ca04f86a03cb"
      },
      "source": [
        "train_images.ndim"
      ],
      "execution_count": 4,
      "outputs": [
        {
          "output_type": "execute_result",
          "data": {
            "text/plain": [
              "3"
            ]
          },
          "metadata": {
            "tags": []
          },
          "execution_count": 4
        }
      ]
    },
    {
      "cell_type": "code",
      "metadata": {
        "id": "eQxvy0sTkg8M",
        "colab_type": "code",
        "colab": {
          "base_uri": "https://localhost:8080/",
          "height": 34
        },
        "outputId": "2fd4f229-ac48-4675-f335-45e8c8f972f6"
      },
      "source": [
        "train_images.dtype"
      ],
      "execution_count": 5,
      "outputs": [
        {
          "output_type": "execute_result",
          "data": {
            "text/plain": [
              "dtype('uint8')"
            ]
          },
          "metadata": {
            "tags": []
          },
          "execution_count": 5
        }
      ]
    },
    {
      "cell_type": "code",
      "metadata": {
        "id": "Q-o9CapCkg6t",
        "colab_type": "code",
        "colab": {
          "base_uri": "https://localhost:8080/",
          "height": 34
        },
        "outputId": "67129d5b-3665-4540-e8f7-9b16a99153af"
      },
      "source": [
        "train_labels"
      ],
      "execution_count": 6,
      "outputs": [
        {
          "output_type": "execute_result",
          "data": {
            "text/plain": [
              "array([5, 0, 4, ..., 5, 6, 8], dtype=uint8)"
            ]
          },
          "metadata": {
            "tags": []
          },
          "execution_count": 6
        }
      ]
    },
    {
      "cell_type": "code",
      "metadata": {
        "id": "Km3s4OhRkg5E",
        "colab_type": "code",
        "colab": {
          "base_uri": "https://localhost:8080/",
          "height": 34
        },
        "outputId": "ec193f7f-3043-40b0-bb52-dcbe75789e48"
      },
      "source": [
        "train_labels.shape"
      ],
      "execution_count": 7,
      "outputs": [
        {
          "output_type": "execute_result",
          "data": {
            "text/plain": [
              "(60000,)"
            ]
          },
          "metadata": {
            "tags": []
          },
          "execution_count": 7
        }
      ]
    },
    {
      "cell_type": "code",
      "metadata": {
        "id": "En-q1t8Lkgwv",
        "colab_type": "code",
        "colab": {
          "base_uri": "https://localhost:8080/",
          "height": 34
        },
        "outputId": "34f83248-2194-4e71-85de-45f4cda3f1c9"
      },
      "source": [
        "len(train_labels)"
      ],
      "execution_count": 8,
      "outputs": [
        {
          "output_type": "execute_result",
          "data": {
            "text/plain": [
              "60000"
            ]
          },
          "metadata": {
            "tags": []
          },
          "execution_count": 8
        }
      ]
    },
    {
      "cell_type": "code",
      "metadata": {
        "id": "3NPy71a4kgvI",
        "colab_type": "code",
        "colab": {}
      },
      "source": [
        "digit_0 = train_images[0]"
      ],
      "execution_count": 0,
      "outputs": []
    },
    {
      "cell_type": "code",
      "metadata": {
        "id": "oOVQuGNykgts",
        "colab_type": "code",
        "colab": {
          "base_uri": "https://localhost:8080/",
          "height": 34
        },
        "outputId": "94f3eb40-5dea-4c1f-b84e-9898a6281f84"
      },
      "source": [
        "digit_0.shape"
      ],
      "execution_count": 11,
      "outputs": [
        {
          "output_type": "execute_result",
          "data": {
            "text/plain": [
              "(28, 28)"
            ]
          },
          "metadata": {
            "tags": []
          },
          "execution_count": 11
        }
      ]
    },
    {
      "cell_type": "code",
      "metadata": {
        "id": "Hdd6yPE2kgsC",
        "colab_type": "code",
        "colab": {
          "base_uri": "https://localhost:8080/",
          "height": 269
        },
        "outputId": "2a44783d-3612-4b8d-e108-826453e8ffb7"
      },
      "source": [
        "plt.figure(figsize=(4, 4))\n",
        "plt.imshow(digit_0)\n",
        "plt.show()"
      ],
      "execution_count": 12,
      "outputs": [
        {
          "output_type": "display_data",
          "data": {
            "image/png": "[encoded data removed]",
            "text/plain": [
              "<Figure size 288x288 with 1 Axes>"
            ]
          },
          "metadata": {
            "tags": []
          }
        }
      ]
    },
    {
      "cell_type": "code",
      "metadata": {
        "id": "wNUZCptWkgqI",
        "colab_type": "code",
        "colab": {
          "base_uri": "https://localhost:8080/",
          "height": 34
        },
        "outputId": "23791d0a-c18a-4e57-f83b-e64bc4e2b298"
      },
      "source": [
        "label_0 = train_labels[0]\n",
        "label_0"
      ],
      "execution_count": 13,
      "outputs": [
        {
          "output_type": "execute_result",
          "data": {
            "text/plain": [
              "5"
            ]
          },
          "metadata": {
            "tags": []
          },
          "execution_count": 13
        }
      ]
    },
    {
      "cell_type": "code",
      "metadata": {
        "id": "3TkPxFAYkgog",
        "colab_type": "code",
        "colab": {
          "base_uri": "https://localhost:8080/",
          "height": 269
        },
        "outputId": "d40ca75d-b995-4e13-8b57-c71fb16e6bf6"
      },
      "source": [
        "plt.figure(figsize=(4, 4))\n",
        "digit_1 = train_images[1]\n",
        "plt.imshow(digit_1)\n",
        "plt.show()"
      ],
      "execution_count": 14,
      "outputs": [
        {
          "output_type": "display_data",
          "data": {
            "image/png": "[encoded data removed]",
            "text/plain": [
              "<Figure size 288x288 with 1 Axes>"
            ]
          },
          "metadata": {
            "tags": []
          }
        }
      ]
    },
    {
      "cell_type": "code",
      "metadata": {
        "id": "hZD3oH_Ikgm7",
        "colab_type": "code",
        "colab": {}
      },
      "source": [
        "label_1 = train_labels[1]\n",
        "label_1"
      ],
      "execution_count": 0,
      "outputs": []
    },
    {
      "cell_type": "code",
      "metadata": {
        "id": "M-z69EiEkga6",
        "colab_type": "code",
        "colab": {}
      },
      "source": [
        "zeros = np.zeros((60000, 28, 28))\n",
        "ones = np.zeros((60000, 28, 28))\n",
        "twos = np.zeros((60000, 28, 28))\n",
        "threes = np.zeros((60000, 28, 28))\n",
        "fours = np.zeros((60000, 28, 28))\n",
        "fives = np.zeros((60000, 28, 28))\n",
        "sixes = np.zeros((60000, 28, 28))\n",
        "sevens = np.zeros((60000, 28, 28))\n",
        "eights = np.zeros((60000, 28, 28))\n",
        "nines = np.zeros((60000, 28, 28))"
      ],
      "execution_count": 0,
      "outputs": []
    },
    {
      "cell_type": "code",
      "metadata": {
        "id": "a53IDiu8mTs7",
        "colab_type": "code",
        "colab": {}
      },
      "source": [
        "i0 = 0\n",
        "i1 = 0\n",
        "i2 = 0\n",
        "i3 = 0\n",
        "i4 = 0\n",
        "i5 = 0\n",
        "i6 = 0\n",
        "i7 = 0\n",
        "i8 = 0\n",
        "i9 = 0\n",
        "\n",
        "for i in train_labels:\n",
        "  if train_labels[i] == 0:\n",
        "    zeros[i0] = train_images[i]\n",
        "    i0 += 1\n",
        "#   elif train_labels[i] == 1:\n",
        "#     zeros[i0] = train_images[i]\n",
        "#     i0 += 1\n",
        "#   elif train_labels[i] == 2:\n",
        "#     zeros[i0] = train_images[i]\n",
        "#     i0 += 1\n",
        "#   elif train_labels[i] == 3:\n",
        "#     zeros[i0] = train_images[i]\n",
        "#     i0 += 1\n",
        "#   elif train_labels[i] == 4:\n",
        "#     zeros[i0] = train_images[i]\n",
        "#     i0 += 1\n",
        "#   elif train_labels[i] == 5:\n",
        "#     fives[i5] = train_images[i]\n",
        "#     i5 += 1\n",
        "#   elif train_labels[i] == 6:\n",
        "#     sixes[i6] = train_images[i]\n",
        "#     i6 += 1\n",
        "#   elif train_labels[i] == 7:\n",
        "#     zeros[i0] = train_images[i]\n",
        "#     i0 += 1\n",
        "#   elif train_labels[i] == 8:\n",
        "#     zeros[i0] = train_images[i]\n",
        "#     i0 += 1\n",
        "#   elif train_labels[i] == 9:\n",
        "#     zeros[i0] = train_images[i]\n",
        "#     i0 += 1\n",
        "#   else:\n",
        "#     print('in else')\n"
      ],
      "execution_count": 0,
      "outputs": []
    },
    {
      "cell_type": "code",
      "metadata": {
        "id": "8Z5Yhyq9mS5_",
        "colab_type": "code",
        "colab": {}
      },
      "source": [
        "zeros = np.resize(zeros, (i0, 28, 28))\n",
        "ones = np.resize(ones, (i1, 28, 28))\n",
        "twos = np.resize(twos, (i2, 28, 28))\n",
        "threes = np.resize(threes, (i3, 28, 28))\n",
        "fours = np.resize(fours, (i4, 28, 28))\n",
        "fives = np.resize(fives, (i5, 28, 28))\n",
        "sixes = np.resize(sixes, (i6, 28, 28))\n",
        "sevens = np.resize(sevens, (i7, 28, 28))\n",
        "eights = np.resize(eights, (i8, 28, 28))\n",
        "nines = np.resize(nines, (i9, 28, 28))"
      ],
      "execution_count": 0,
      "outputs": []
    },
    {
      "cell_type": "code",
      "metadata": {
        "id": "EDy7X0VNOkzV",
        "colab_type": "code",
        "colab": {
          "base_uri": "https://localhost:8080/",
          "height": 85
        },
        "outputId": "4d93976e-b271-4817-991f-1ee9cbb57bcb"
      },
      "source": [
        "zero_avg = np.mean(zeros, axis=0)\n",
        "one_avg = np.mean(ones.tolist(), axis=0)\n",
        "two_avg = np.mean(twos.tolist(), axis=0)\n",
        "three_avg = np.mean(threes.tolist(), axis=0)\n",
        "four_avg = np.mean(fours.tolist(), axis=0)\n",
        "five_avg = np.mean(fives.tolist(), axis=0)\n",
        "six_avg = np.mean(sixes.tolist(), axis=0)\n",
        "seven_avg = np.mean(sevens.tolist(), axis=0)\n",
        "eight_avg = np.mean(eights.tolist(), axis=0)\n",
        "nine_avg = np.mean(nines.tolist(), axis=0)"
      ],
      "execution_count": 354,
      "outputs": [
        {
          "output_type": "stream",
          "text": [
            "/usr/local/lib/python3.6/dist-packages/numpy/core/fromnumeric.py:3118: RuntimeWarning: Mean of empty slice.\n",
            "  out=out, **kwargs)\n",
            "/usr/local/lib/python3.6/dist-packages/numpy/core/_methods.py:85: RuntimeWarning: invalid value encountered in double_scalars\n",
            "  ret = ret.dtype.type(ret / rcount)\n"
          ],
          "name": "stderr"
        }
      ]
    },
    {
      "cell_type": "code",
      "metadata": {
        "id": "-kzON_NUmSpC",
        "colab_type": "code",
        "colab": {
          "base_uri": "https://localhost:8080/",
          "height": 269
        },
        "outputId": "984c5573-1dd6-4dcf-f10a-371ee051fac7"
      },
      "source": [
        "plt.figure(figsize=(4, 4))\n",
        "plt.imshow(zero_avg)\n",
        "plt.show()"
      ],
      "execution_count": 372,
      "outputs": [
        {
          "output_type": "display_data",
          "data": {
            "image/png": "[encoded data removed]",
            "text/plain": [
              "<Figure size 288x288 with 1 Axes>"
            ]
          },
          "metadata": {
            "tags": []
          }
        }
      ]
    }
  ]
}