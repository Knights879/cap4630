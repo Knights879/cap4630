{
  "nbformat": 4,
  "nbformat_minor": 0,
  "metadata": {
    "colab": {
      "name": "hw2p3.ipynb",
      "provenance": [],
      "collapsed_sections": []
    },
    "kernelspec": {
      "name": "python3",
      "display_name": "Python 3"
    },
    "accelerator": "GPU"
  },
  "cells": [
    {
      "cell_type": "markdown",
      "metadata": {
        "id": "l34GNy7tyNks",
        "colab_type": "text"
      },
      "source": [
        "## Loading the CIFAR10 data set"
      ]
    },
    {
      "cell_type": "code",
      "metadata": {
        "id": "FSJyddqGexl5",
        "colab_type": "code",
        "colab": {}
      },
      "source": [
        "import keras\n",
        "from keras.datasets import cifar10\n",
        "from keras.layers import Dense, Conv2D, BatchNormalization, Activation\n",
        "from keras.layers import AveragePooling2D, Input, Flatten\n",
        "from keras.optimizers import Adam\n",
        "from keras.callbacks import ModelCheckpoint, LearningRateScheduler\n",
        "from keras.callbacks import ReduceLROnPlateau\n",
        "from keras.preprocessing.image import ImageDataGenerator\n",
        "from keras.regularizers import l2\n",
        "from keras import backend as K\n",
        "from keras import Model\n",
        "from keras.utils.vis_utils import model_to_dot\n",
        "import numpy as np\n",
        "import os\n",
        "from IPython.display import SVG\n",
        "%matplotlib inline\n",
        "import matplotlib.pyplot as plt\n",
        "\n",
        "# Load the CIFAR10 data\n",
        "(x_train, y_train), (x_test, y_test) = cifar10.load_data()"
      ],
      "execution_count": 0,
      "outputs": []
    },
    {
      "cell_type": "code",
      "metadata": {
        "id": "ziKQU80Yh_uE",
        "colab_type": "code",
        "colab": {}
      },
      "source": [
        "class_names = ['airplan', 'automobile', 'bird', 'cat', 'deer', 'dog', 'frog', 'horse', 'ship', 'truck']"
      ],
      "execution_count": 0,
      "outputs": []
    },
    {
      "cell_type": "markdown",
      "metadata": {
        "colab_type": "text",
        "id": "s5p18TJJ99Aq"
      },
      "source": [
        "## Model parameters"
      ]
    },
    {
      "cell_type": "code",
      "metadata": {
        "colab_type": "code",
        "id": "0UNGjRDN98wS",
        "colab": {}
      },
      "source": [
        "# Training parameters\n",
        "batch_size = 64\n",
        "epochs = 20\n",
        "data_augmentation = True\n",
        "num_classes = 10\n",
        "\n",
        "# Subtracting pixel mean improves accuracy\n",
        "subtract_pixel_mean = True\n",
        "\n",
        "# Model parameter\n",
        "n = 3\n",
        "\n",
        "# Model version\n",
        "version = 1\n",
        "\n",
        "# Computed depth from supplied model parameter n\n",
        "if version == 1:\n",
        "    depth = n * 6 + 2\n",
        "elif version == 2:\n",
        "    depth = n * 9 + 2\n",
        "\n",
        "# Model name, depth and version\n",
        "model_type = 'ResNet%dv%d' % (depth, version)"
      ],
      "execution_count": 0,
      "outputs": []
    },
    {
      "cell_type": "code",
      "metadata": {
        "colab_type": "code",
        "outputId": "03b5b0f0-77f5-478e-c5ca-2f9aebe5909c",
        "id": "MK_TNvTB978j",
        "colab": {
          "base_uri": "https://localhost:8080/",
          "height": 34
        }
      },
      "source": [
        "print(model_type)"
      ],
      "execution_count": 102,
      "outputs": [
        {
          "output_type": "stream",
          "text": [
            "ResNet20v1\n"
          ],
          "name": "stdout"
        }
      ]
    },
    {
      "cell_type": "markdown",
      "metadata": {
        "id": "JC5iBT_0OCSl",
        "colab_type": "text"
      },
      "source": [
        "## Preprocess the data"
      ]
    },
    {
      "cell_type": "code",
      "metadata": {
        "id": "xxlMrZqOsopi",
        "colab_type": "code",
        "outputId": "312cee10-5cf9-4b95-b03a-919360ee910b",
        "colab": {
          "base_uri": "https://localhost:8080/",
          "height": 153
        }
      },
      "source": [
        "# Normalize data\n",
        "x_train = x_train.astype('float32') / 255\n",
        "x_test = x_test.astype('float32') / 255\n",
        "\n",
        "# Convert class vectors to binary class matrices\n",
        "y_train = keras.utils.to_categorical(y_train, num_classes)\n",
        "y_test = keras.utils.to_categorical(y_test, num_classes)\n",
        "\n",
        "# Input dimensions\n",
        "input_shape = x_train.shape[1:]\n",
        "\n",
        "# Number of non-test examples\n",
        "num_non_test = x_train.shape[0] \n",
        "\n",
        "# shuffle non-test data\n",
        "shuffled_indices = np.random.permutation(num_non_test)\n",
        "x_train = x_train[shuffled_indices]\n",
        "y_train = y_train[shuffled_indices]\n",
        "\n",
        "# Simple hold-out validation \n",
        "# Note that this could be also achieved by setting validation_split to 0.2\n",
        "\n",
        "# Number of training examples\n",
        "num_train = int(0.8 * num_non_test)\n",
        "\n",
        "# Split into validation and train data\n",
        "x_val = x_train[num_train:]\n",
        "y_val = y_train[num_train:]\n",
        "\n",
        "x_train = x_train[:num_train]\n",
        "y_train = y_train[:num_train]\n",
        "\n",
        "print('shapes')\n",
        "print()\n",
        "print('x_train:', x_train.shape)\n",
        "print('y_train:', y_train.shape)\n",
        "print('x_val  :', x_val.shape)\n",
        "print('y_val  :', y_val.shape)\n",
        "print('x_test :', x_test.shape)\n",
        "print('y_test :', y_test.shape)"
      ],
      "execution_count": 103,
      "outputs": [
        {
          "output_type": "stream",
          "text": [
            "shapes\n",
            "\n",
            "x_train: (40000, 32, 32, 3)\n",
            "y_train: (40000, 10)\n",
            "x_val  : (10000, 32, 32, 3)\n",
            "y_val  : (10000, 10)\n",
            "x_test : (10000, 32, 32, 3)\n",
            "y_test : (10000, 10)\n"
          ],
          "name": "stdout"
        }
      ]
    },
    {
      "cell_type": "markdown",
      "metadata": {
        "colab_type": "text",
        "id": "3ysCybB4BfVO"
      },
      "source": [
        "## Model 1 - Underfitting"
      ]
    },
    {
      "cell_type": "code",
      "metadata": {
        "colab_type": "code",
        "id": "SqXbGs1LBdRI",
        "colab": {}
      },
      "source": [
        "# set up the layers\n",
        "model1 = keras.Sequential([\n",
        "    keras.layers.Conv2D(32, (3, 3), activation='relu', kernel_initializer='he_uniform', padding='same', input_shape=(32, 32, 3)),\n",
        "    keras.layers.Conv2D(32, (3, 3), activation='relu', kernel_initializer='he_uniform', padding='same'),\n",
        "    keras.layers.MaxPooling2D((20, 20)),\n",
        "    keras.layers.Flatten(),\n",
        "    keras.layers.Dense(128, activation='relu', kernel_initializer='he_uniform'),\n",
        "    keras.layers.Dense(10, activation='softmax')\n",
        "])"
      ],
      "execution_count": 0,
      "outputs": []
    },
    {
      "cell_type": "code",
      "metadata": {
        "colab_type": "code",
        "id": "6Zg0Q646BdRP",
        "colab": {}
      },
      "source": [
        "# compile the model\n",
        "model1.compile(optimizer='adam',\n",
        "             loss='categorical_crossentropy',\n",
        "             metrics=['accuracy'])"
      ],
      "execution_count": 0,
      "outputs": []
    },
    {
      "cell_type": "code",
      "metadata": {
        "colab_type": "code",
        "outputId": "035e5514-6490-49e2-e527-31dbb404febc",
        "id": "NzBsJqwTBdRT",
        "colab": {
          "base_uri": "https://localhost:8080/",
          "height": 714
        }
      },
      "source": [
        "# train the model\n",
        "epochs = 20\n",
        "history = model1.fit(x_train, y_train,\n",
        "                        batch_size=64,\n",
        "                        epochs=epochs,\n",
        "                        validation_data=(x_val, y_val))"
      ],
      "execution_count": 106,
      "outputs": [
        {
          "output_type": "stream",
          "text": [
            "Train on 40000 samples, validate on 10000 samples\n",
            "Epoch 1/20\n",
            "40000/40000 [==============================] - 5s 136us/step - loss: 1.9356 - acc: 0.2891 - val_loss: 1.7184 - val_acc: 0.3787\n",
            "Epoch 2/20\n",
            "40000/40000 [==============================] - 4s 101us/step - loss: 1.6325 - acc: 0.4137 - val_loss: 1.5989 - val_acc: 0.4329\n",
            "Epoch 3/20\n",
            "40000/40000 [==============================] - 4s 101us/step - loss: 1.5292 - acc: 0.4531 - val_loss: 1.5084 - val_acc: 0.4664\n",
            "Epoch 4/20\n",
            "40000/40000 [==============================] - 4s 102us/step - loss: 1.4694 - acc: 0.4789 - val_loss: 1.4609 - val_acc: 0.4926\n",
            "Epoch 5/20\n",
            "40000/40000 [==============================] - 4s 101us/step - loss: 1.4271 - acc: 0.4934 - val_loss: 1.4300 - val_acc: 0.4992\n",
            "Epoch 6/20\n",
            "40000/40000 [==============================] - 4s 102us/step - loss: 1.3945 - acc: 0.5038 - val_loss: 1.4344 - val_acc: 0.4946\n",
            "Epoch 7/20\n",
            "40000/40000 [==============================] - 4s 102us/step - loss: 1.3683 - acc: 0.5139 - val_loss: 1.4105 - val_acc: 0.5034\n",
            "Epoch 8/20\n",
            "40000/40000 [==============================] - 4s 103us/step - loss: 1.3443 - acc: 0.5260 - val_loss: 1.3713 - val_acc: 0.5185\n",
            "Epoch 9/20\n",
            "40000/40000 [==============================] - 4s 103us/step - loss: 1.3245 - acc: 0.5325 - val_loss: 1.3709 - val_acc: 0.5135\n",
            "Epoch 10/20\n",
            "40000/40000 [==============================] - 4s 104us/step - loss: 1.3043 - acc: 0.5381 - val_loss: 1.3728 - val_acc: 0.5148\n",
            "Epoch 11/20\n",
            "40000/40000 [==============================] - 4s 102us/step - loss: 1.2877 - acc: 0.5454 - val_loss: 1.3627 - val_acc: 0.5142\n",
            "Epoch 12/20\n",
            "40000/40000 [==============================] - 4s 102us/step - loss: 1.2704 - acc: 0.5523 - val_loss: 1.3528 - val_acc: 0.5189\n",
            "Epoch 13/20\n",
            "40000/40000 [==============================] - 4s 103us/step - loss: 1.2582 - acc: 0.5559 - val_loss: 1.3287 - val_acc: 0.5344\n",
            "Epoch 14/20\n",
            "40000/40000 [==============================] - 4s 103us/step - loss: 1.2440 - acc: 0.5597 - val_loss: 1.3309 - val_acc: 0.5324\n",
            "Epoch 15/20\n",
            "40000/40000 [==============================] - 4s 102us/step - loss: 1.2321 - acc: 0.5648 - val_loss: 1.3134 - val_acc: 0.5344\n",
            "Epoch 16/20\n",
            "40000/40000 [==============================] - 4s 103us/step - loss: 1.2200 - acc: 0.5680 - val_loss: 1.3323 - val_acc: 0.5330\n",
            "Epoch 17/20\n",
            "40000/40000 [==============================] - 4s 102us/step - loss: 1.2100 - acc: 0.5696 - val_loss: 1.3022 - val_acc: 0.5423\n",
            "Epoch 18/20\n",
            "40000/40000 [==============================] - 4s 100us/step - loss: 1.1980 - acc: 0.5770 - val_loss: 1.2925 - val_acc: 0.5472\n",
            "Epoch 19/20\n",
            "40000/40000 [==============================] - 4s 102us/step - loss: 1.1904 - acc: 0.5803 - val_loss: 1.2995 - val_acc: 0.5463\n",
            "Epoch 20/20\n",
            "40000/40000 [==============================] - 4s 104us/step - loss: 1.1803 - acc: 0.5804 - val_loss: 1.3119 - val_acc: 0.5407\n"
          ],
          "name": "stdout"
        }
      ]
    },
    {
      "cell_type": "code",
      "metadata": {
        "colab_type": "code",
        "outputId": "bc05cbb4-856b-4513-f3fc-4a1da4f8f4d0",
        "id": "PVc9z6ptBdRZ",
        "colab": {
          "base_uri": "https://localhost:8080/",
          "height": 51
        }
      },
      "source": [
        "# Evaluate accuracy\n",
        "test_loss1, test_acc1 = model1.evaluate(x_test, y_test)\n",
        "\n",
        "print('Test accuracy:', test_acc1)"
      ],
      "execution_count": 107,
      "outputs": [
        {
          "output_type": "stream",
          "text": [
            "10000/10000 [==============================] - 1s 68us/step\n",
            "Test accuracy: 0.5415\n"
          ],
          "name": "stdout"
        }
      ]
    },
    {
      "cell_type": "code",
      "metadata": {
        "colab_type": "code",
        "id": "zmQVfJQ_BdRd",
        "colab": {}
      },
      "source": [
        "# Training/test loss/accuracy during training\n",
        "history_dict = history.history\n",
        "loss_values = history_dict['loss']\n",
        "test_loss_values = history_dict['val_loss']\n",
        "epochs_range = range(1, epochs+1)"
      ],
      "execution_count": 0,
      "outputs": []
    },
    {
      "cell_type": "code",
      "metadata": {
        "colab_type": "code",
        "outputId": "f0710959-bade-4e97-8582-e8c7f97186b1",
        "id": "Bt-lAM-YBdRh",
        "colab": {
          "base_uri": "https://localhost:8080/",
          "height": 295
        }
      },
      "source": [
        "plt.plot(epochs_range, loss_values, 'bo', label='Training loss')\n",
        "plt.plot(epochs_range, test_loss_values, 'ro', label='Test loss')\n",
        "plt.title('Training and test loss')\n",
        "plt.xlabel('Epochs')\n",
        "plt.ylabel('Loss')\n",
        "plt.legend()\n",
        "plt.show()"
      ],
      "execution_count": 109,
      "outputs": [
        {
          "output_type": "display_data",
          "data": {
            "image/png": "[encoded data removed]",
            "text/plain": [
              "<Figure size 432x288 with 1 Axes>"
            ]
          },
          "metadata": {
            "tags": []
          }
        }
      ]
    },
    {
      "cell_type": "code",
      "metadata": {
        "colab_type": "code",
        "id": "JTHov6nrBdRk",
        "colab": {}
      },
      "source": [
        "acc_values = history_dict['acc']\n",
        "test_acc_values = history_dict['val_acc']"
      ],
      "execution_count": 0,
      "outputs": []
    },
    {
      "cell_type": "code",
      "metadata": {
        "colab_type": "code",
        "outputId": "dbec6fce-ac26-4d25-ee6b-22f53fac048b",
        "id": "Q93vqd4mBdRm",
        "colab": {
          "base_uri": "https://localhost:8080/",
          "height": 295
        }
      },
      "source": [
        "plt.plot(epochs_range, acc_values, 'bo', label='Training accuracy')\n",
        "plt.plot(epochs_range, test_acc_values, 'ro', label='Test accuracy')\n",
        "plt.title('Training and test accuracy')\n",
        "plt.xlabel('Epochs')\n",
        "plt.ylabel('Accuracy')\n",
        "plt.legend()\n",
        "plt.show()"
      ],
      "execution_count": 111,
      "outputs": [
        {
          "output_type": "display_data",
          "data": {
            "image/png": "[encoded data removed]",
            "text/plain": [
              "<Figure size 432x288 with 1 Axes>"
            ]
          },
          "metadata": {
            "tags": []
          }
        }
      ]
    },
    {
      "cell_type": "markdown",
      "metadata": {
        "id": "OA975wHjOJI-",
        "colab_type": "text"
      },
      "source": [
        "## Model 2 - Overfitting"
      ]
    },
    {
      "cell_type": "code",
      "metadata": {
        "id": "ZX6SGTpMOIKN",
        "colab_type": "code",
        "colab": {}
      },
      "source": [
        "# set up the layers\n",
        "model2 = keras.Sequential([\n",
        "    keras.layers.Conv2D(32, (3, 3), activation='relu', kernel_initializer='he_uniform', padding='same', input_shape=(32, 32, 3)),\n",
        "    keras.layers.Conv2D(32, (3, 3), activation='relu', kernel_initializer='he_uniform', padding='same'),\n",
        "    keras.layers.MaxPooling2D((2, 2)),\n",
        "    keras.layers.Flatten(),\n",
        "    keras.layers.Dense(128, activation='relu', kernel_initializer='he_uniform'),\n",
        "    keras.layers.Dense(10, activation='softmax')\n",
        "])"
      ],
      "execution_count": 0,
      "outputs": []
    },
    {
      "cell_type": "code",
      "metadata": {
        "id": "f4Z_U0ZGkAJX",
        "colab_type": "code",
        "colab": {}
      },
      "source": [
        "# compile the model\n",
        "model2.compile(optimizer='adam',\n",
        "             loss='categorical_crossentropy',\n",
        "             metrics=['accuracy'])"
      ],
      "execution_count": 0,
      "outputs": []
    },
    {
      "cell_type": "code",
      "metadata": {
        "id": "d74uoxopj_22",
        "colab_type": "code",
        "outputId": "e019725f-35f8-4b88-fb29-3e7fa6a39b38",
        "colab": {
          "base_uri": "https://localhost:8080/",
          "height": 1000
        }
      },
      "source": [
        "# train the model\n",
        "epochs = 20\n",
        "history = model2.fit(x_train, y_train,\n",
        "                        batch_size=64,\n",
        "                        epochs=epochs,\n",
        "                        validation_data=(x_val, y_val))"
      ],
      "execution_count": 35,
      "outputs": [
        {
          "output_type": "stream",
          "text": [
            "WARNING:tensorflow:From /usr/local/lib/python3.6/dist-packages/tensorflow_core/python/ops/math_grad.py:1424: where (from tensorflow.python.ops.array_ops) is deprecated and will be removed in a future version.\n",
            "Instructions for updating:\n",
            "Use tf.where in 2.0, which has the same broadcast rule as np.where\n",
            "WARNING:tensorflow:From /usr/local/lib/python3.6/dist-packages/keras/backend/tensorflow_backend.py:1033: The name tf.assign_add is deprecated. Please use tf.compat.v1.assign_add instead.\n",
            "\n",
            "WARNING:tensorflow:From /usr/local/lib/python3.6/dist-packages/keras/backend/tensorflow_backend.py:1020: The name tf.assign is deprecated. Please use tf.compat.v1.assign instead.\n",
            "\n",
            "WARNING:tensorflow:From /usr/local/lib/python3.6/dist-packages/keras/backend/tensorflow_backend.py:3005: The name tf.Session is deprecated. Please use tf.compat.v1.Session instead.\n",
            "\n",
            "Train on 40000 samples, validate on 10000 samples\n",
            "Epoch 1/20\n",
            "WARNING:tensorflow:From /usr/local/lib/python3.6/dist-packages/keras/backend/tensorflow_backend.py:190: The name tf.get_default_session is deprecated. Please use tf.compat.v1.get_default_session instead.\n",
            "\n",
            "WARNING:tensorflow:From /usr/local/lib/python3.6/dist-packages/keras/backend/tensorflow_backend.py:197: The name tf.ConfigProto is deprecated. Please use tf.compat.v1.ConfigProto instead.\n",
            "\n",
            "WARNING:tensorflow:From /usr/local/lib/python3.6/dist-packages/keras/backend/tensorflow_backend.py:207: The name tf.global_variables is deprecated. Please use tf.compat.v1.global_variables instead.\n",
            "\n",
            "WARNING:tensorflow:From /usr/local/lib/python3.6/dist-packages/keras/backend/tensorflow_backend.py:216: The name tf.is_variable_initialized is deprecated. Please use tf.compat.v1.is_variable_initialized instead.\n",
            "\n",
            "WARNING:tensorflow:From /usr/local/lib/python3.6/dist-packages/keras/backend/tensorflow_backend.py:223: The name tf.variables_initializer is deprecated. Please use tf.compat.v1.variables_initializer instead.\n",
            "\n",
            "40000/40000 [==============================] - 12s 291us/step - loss: 1.4534 - acc: 0.4848 - val_loss: 1.2301 - val_acc: 0.5682\n",
            "Epoch 2/20\n",
            "40000/40000 [==============================] - 4s 98us/step - loss: 1.0464 - acc: 0.6354 - val_loss: 1.0594 - val_acc: 0.6317\n",
            "Epoch 3/20\n",
            "40000/40000 [==============================] - 4s 98us/step - loss: 0.8800 - acc: 0.6949 - val_loss: 0.9833 - val_acc: 0.6580\n",
            "Epoch 4/20\n",
            "40000/40000 [==============================] - 4s 99us/step - loss: 0.7585 - acc: 0.7358 - val_loss: 0.9759 - val_acc: 0.6721\n",
            "Epoch 5/20\n",
            "40000/40000 [==============================] - 4s 98us/step - loss: 0.6539 - acc: 0.7716 - val_loss: 1.0492 - val_acc: 0.6587\n",
            "Epoch 6/20\n",
            "40000/40000 [==============================] - 4s 98us/step - loss: 0.5543 - acc: 0.8078 - val_loss: 1.0610 - val_acc: 0.6617\n",
            "Epoch 7/20\n",
            "40000/40000 [==============================] - 4s 99us/step - loss: 0.4585 - acc: 0.8392 - val_loss: 1.1283 - val_acc: 0.6626\n",
            "Epoch 8/20\n",
            "40000/40000 [==============================] - 4s 98us/step - loss: 0.3773 - acc: 0.8687 - val_loss: 1.2136 - val_acc: 0.6556\n",
            "Epoch 9/20\n",
            "40000/40000 [==============================] - 4s 98us/step - loss: 0.3027 - acc: 0.8959 - val_loss: 1.3789 - val_acc: 0.6499\n",
            "Epoch 10/20\n",
            "40000/40000 [==============================] - 4s 98us/step - loss: 0.2457 - acc: 0.9175 - val_loss: 1.5269 - val_acc: 0.6494\n",
            "Epoch 11/20\n",
            "40000/40000 [==============================] - 4s 100us/step - loss: 0.2010 - acc: 0.9320 - val_loss: 1.5997 - val_acc: 0.6469\n",
            "Epoch 12/20\n",
            "40000/40000 [==============================] - 4s 101us/step - loss: 0.1561 - acc: 0.9485 - val_loss: 1.9438 - val_acc: 0.6290\n",
            "Epoch 13/20\n",
            "40000/40000 [==============================] - 4s 98us/step - loss: 0.1306 - acc: 0.9568 - val_loss: 1.9338 - val_acc: 0.6412\n",
            "Epoch 14/20\n",
            "40000/40000 [==============================] - 4s 99us/step - loss: 0.1117 - acc: 0.9630 - val_loss: 2.0590 - val_acc: 0.6398\n",
            "Epoch 15/20\n",
            "40000/40000 [==============================] - 4s 99us/step - loss: 0.0926 - acc: 0.9700 - val_loss: 2.1957 - val_acc: 0.6302\n",
            "Epoch 16/20\n",
            "40000/40000 [==============================] - 4s 98us/step - loss: 0.0951 - acc: 0.9682 - val_loss: 2.2525 - val_acc: 0.6324\n",
            "Epoch 17/20\n",
            "40000/40000 [==============================] - 4s 101us/step - loss: 0.0778 - acc: 0.9736 - val_loss: 2.4314 - val_acc: 0.6299\n",
            "Epoch 18/20\n",
            "40000/40000 [==============================] - 4s 101us/step - loss: 0.0684 - acc: 0.9773 - val_loss: 2.5590 - val_acc: 0.6298\n",
            "Epoch 19/20\n",
            "40000/40000 [==============================] - 4s 99us/step - loss: 0.0528 - acc: 0.9828 - val_loss: 2.5885 - val_acc: 0.6341\n",
            "Epoch 20/20\n",
            "40000/40000 [==============================] - 4s 100us/step - loss: 0.0695 - acc: 0.9761 - val_loss: 2.5923 - val_acc: 0.6368\n"
          ],
          "name": "stdout"
        }
      ]
    },
    {
      "cell_type": "code",
      "metadata": {
        "id": "tyw8IVgTgKzw",
        "colab_type": "code",
        "outputId": "035418e0-2677-4727-bfc1-08e356ad8774",
        "colab": {
          "base_uri": "https://localhost:8080/",
          "height": 51
        }
      },
      "source": [
        "# Evaluate accuracy\n",
        "test_loss2, test_acc2 = model2.evaluate(x_test, y_test)\n",
        "\n",
        "print('Test accuracy:', test_acc2)"
      ],
      "execution_count": 37,
      "outputs": [
        {
          "output_type": "stream",
          "text": [
            "10000/10000 [==============================] - 1s 63us/step\n",
            "Test accuracy: 0.6367\n"
          ],
          "name": "stdout"
        }
      ]
    },
    {
      "cell_type": "code",
      "metadata": {
        "id": "L3PJURMNh0u0",
        "colab_type": "code",
        "colab": {}
      },
      "source": [
        "# Training/test loss/accuracy during training\n",
        "history_dict = history.history\n",
        "loss_values = history_dict['loss']\n",
        "test_loss_values = history_dict['val_loss']\n",
        "epochs_range = range(1, epochs+1)"
      ],
      "execution_count": 0,
      "outputs": []
    },
    {
      "cell_type": "code",
      "metadata": {
        "colab_type": "code",
        "id": "31sutVyRietb",
        "outputId": "8b1cd7a5-ebe6-4b5e-ec2c-03e965431f33",
        "colab": {
          "base_uri": "https://localhost:8080/",
          "height": 295
        }
      },
      "source": [
        "plt.plot(epochs_range, loss_values, 'bo', label='Training loss')\n",
        "plt.plot(epochs_range, test_loss_values, 'ro', label='Test loss')\n",
        "plt.title('Training and test loss')\n",
        "plt.xlabel('Epochs')\n",
        "plt.ylabel('Loss')\n",
        "plt.legend()\n",
        "plt.show()"
      ],
      "execution_count": 39,
      "outputs": [
        {
          "output_type": "display_data",
          "data": {
            "image/png": "[encoded data removed]",
            "text/plain": [
              "<Figure size 432x288 with 1 Axes>"
            ]
          },
          "metadata": {
            "tags": []
          }
        }
      ]
    },
    {
      "cell_type": "code",
      "metadata": {
        "colab_type": "code",
        "id": "Wzisxcf7iete",
        "colab": {}
      },
      "source": [
        "acc_values = history_dict['acc']\n",
        "test_acc_values = history_dict['val_acc']"
      ],
      "execution_count": 0,
      "outputs": []
    },
    {
      "cell_type": "code",
      "metadata": {
        "colab_type": "code",
        "id": "s7KuA5qBieti",
        "outputId": "6c6f2659-2730-4b34-95bc-db4cf09e86d5",
        "colab": {
          "base_uri": "https://localhost:8080/",
          "height": 295
        }
      },
      "source": [
        "plt.plot(epochs_range, acc_values, 'bo', label='Training accuracy')\n",
        "plt.plot(epochs_range, test_acc_values, 'ro', label='Test accuracy')\n",
        "plt.title('Training and test accuracy')\n",
        "plt.xlabel('Epochs')\n",
        "plt.ylabel('Accuracy')\n",
        "plt.legend()\n",
        "plt.show()"
      ],
      "execution_count": 41,
      "outputs": [
        {
          "output_type": "display_data",
          "data": {
            "image/png": "[encoded data removed]",
            "text/plain": [
              "<Figure size 432x288 with 1 Axes>"
            ]
          },
          "metadata": {
            "tags": []
          }
        }
      ]
    },
    {
      "cell_type": "markdown",
      "metadata": {
        "colab_type": "text",
        "id": "csALOMblC9ue"
      },
      "source": [
        "## Model 3 - Pretty Good"
      ]
    },
    {
      "cell_type": "code",
      "metadata": {
        "colab_type": "code",
        "id": "X1TVnjzXC9uk",
        "colab": {}
      },
      "source": [
        "# set up the layers\n",
        "model3 = keras.Sequential([\n",
        "    keras.layers.Conv2D(32, (3, 3), activation='relu', kernel_initializer='he_uniform', padding='same', input_shape=(32, 32, 3)),\n",
        "    keras.layers.Conv2D(32, (3, 3), activation='relu', kernel_initializer='he_uniform', padding='same'),\n",
        "    keras.layers.MaxPooling2D((2, 2)),\n",
        "    keras.layers.Dropout(0.2),\n",
        "    keras.layers.Conv2D(64, (3, 3), activation='relu', kernel_initializer='he_uniform', padding='same'),\n",
        "    keras.layers.Conv2D(64, (3, 3), activation='relu', kernel_initializer='he_uniform', padding='same'),\n",
        "    keras.layers.MaxPooling2D((2, 2)),\n",
        "    keras.layers.Dropout(0.2),\n",
        "    keras.layers.Flatten(),\n",
        "    keras.layers.Dense(128, activation='relu', kernel_initializer='he_uniform'),\n",
        "    keras.layers.Dropout(0.2),\n",
        "    keras.layers.Dense(10, activation='softmax')\n",
        "])"
      ],
      "execution_count": 0,
      "outputs": []
    },
    {
      "cell_type": "code",
      "metadata": {
        "colab_type": "code",
        "id": "sXuV8DogC9un",
        "colab": {}
      },
      "source": [
        "# compile the model\n",
        "model3.compile(optimizer='adam',\n",
        "             loss='categorical_crossentropy',\n",
        "             metrics=['accuracy'])"
      ],
      "execution_count": 0,
      "outputs": []
    },
    {
      "cell_type": "code",
      "metadata": {
        "colab_type": "code",
        "outputId": "54e6ea9a-522d-4491-af96-000f7b3f1356",
        "id": "-h5S0neCC9uo",
        "colab": {
          "base_uri": "https://localhost:8080/",
          "height": 374
        }
      },
      "source": [
        "# train the model\n",
        "epochs = 10\n",
        "history = model3.fit(x_train, y_train,\n",
        "                        batch_size=64,\n",
        "                        epochs=epochs,\n",
        "                        validation_data=(x_val, y_val))"
      ],
      "execution_count": 93,
      "outputs": [
        {
          "output_type": "stream",
          "text": [
            "Train on 40000 samples, validate on 10000 samples\n",
            "Epoch 1/10\n",
            "40000/40000 [==============================] - 7s 164us/step - loss: 1.6545 - acc: 0.3947 - val_loss: 1.3548 - val_acc: 0.5123\n",
            "Epoch 2/10\n",
            "40000/40000 [==============================] - 5s 127us/step - loss: 1.2226 - acc: 0.5608 - val_loss: 1.0322 - val_acc: 0.6341\n",
            "Epoch 3/10\n",
            "40000/40000 [==============================] - 5s 129us/step - loss: 1.0093 - acc: 0.6431 - val_loss: 0.8795 - val_acc: 0.6926\n",
            "Epoch 4/10\n",
            "40000/40000 [==============================] - 5s 128us/step - loss: 0.8802 - acc: 0.6899 - val_loss: 0.8769 - val_acc: 0.6962\n",
            "Epoch 5/10\n",
            "40000/40000 [==============================] - 5s 129us/step - loss: 0.7952 - acc: 0.7218 - val_loss: 0.7541 - val_acc: 0.7352\n",
            "Epoch 6/10\n",
            "40000/40000 [==============================] - 5s 128us/step - loss: 0.7234 - acc: 0.7452 - val_loss: 0.7725 - val_acc: 0.7292\n",
            "Epoch 7/10\n",
            "40000/40000 [==============================] - 5s 127us/step - loss: 0.6724 - acc: 0.7614 - val_loss: 0.7635 - val_acc: 0.7373\n",
            "Epoch 8/10\n",
            "40000/40000 [==============================] - 5s 128us/step - loss: 0.6162 - acc: 0.7796 - val_loss: 0.7253 - val_acc: 0.7501\n",
            "Epoch 9/10\n",
            "40000/40000 [==============================] - 5s 127us/step - loss: 0.5793 - acc: 0.7924 - val_loss: 0.7373 - val_acc: 0.7548\n",
            "Epoch 10/10\n",
            "40000/40000 [==============================] - 5s 128us/step - loss: 0.5485 - acc: 0.8022 - val_loss: 0.7105 - val_acc: 0.7590\n"
          ],
          "name": "stdout"
        }
      ]
    },
    {
      "cell_type": "code",
      "metadata": {
        "colab_type": "code",
        "outputId": "2b3f459d-e565-43cc-b568-842a25112e6c",
        "id": "VwzMGUUaC9ur",
        "colab": {
          "base_uri": "https://localhost:8080/",
          "height": 51
        }
      },
      "source": [
        "# Evaluate accuracy\n",
        "test_loss3, test_acc3 = model3.evaluate(x_test, y_test)\n",
        "\n",
        "print('Test accuracy:', test_acc3)"
      ],
      "execution_count": 94,
      "outputs": [
        {
          "output_type": "stream",
          "text": [
            "10000/10000 [==============================] - 1s 76us/step\n",
            "Test accuracy: 0.7566\n"
          ],
          "name": "stdout"
        }
      ]
    },
    {
      "cell_type": "code",
      "metadata": {
        "colab_type": "code",
        "id": "QPpKAKjWC9ut",
        "colab": {}
      },
      "source": [
        "# Training/test loss/accuracy during training\n",
        "history_dict = history.history\n",
        "loss_values = history_dict['loss']\n",
        "test_loss_values = history_dict['val_loss']\n",
        "epochs_range = range(1, epochs+1)"
      ],
      "execution_count": 0,
      "outputs": []
    },
    {
      "cell_type": "code",
      "metadata": {
        "colab_type": "code",
        "outputId": "73e02bf0-d260-45f4-8c32-f0aceaa979e4",
        "id": "3HctG7EZC9uu",
        "colab": {
          "base_uri": "https://localhost:8080/",
          "height": 295
        }
      },
      "source": [
        "plt.plot(epochs_range, loss_values, 'bo', label='Training loss')\n",
        "plt.plot(epochs_range, test_loss_values, 'ro', label='Test loss')\n",
        "plt.title('Training and test loss')\n",
        "plt.xlabel('Epochs')\n",
        "plt.ylabel('Loss')\n",
        "plt.legend()\n",
        "plt.show()"
      ],
      "execution_count": 96,
      "outputs": [
        {
          "output_type": "display_data",
          "data": {
            "image/png": "[encoded data removed]",
            "text/plain": [
              "<Figure size 432x288 with 1 Axes>"
            ]
          },
          "metadata": {
            "tags": []
          }
        }
      ]
    },
    {
      "cell_type": "code",
      "metadata": {
        "colab_type": "code",
        "id": "NkH91w7_C9uw",
        "colab": {}
      },
      "source": [
        "acc_values = history_dict['acc']\n",
        "test_acc_values = history_dict['val_acc']"
      ],
      "execution_count": 0,
      "outputs": []
    },
    {
      "cell_type": "code",
      "metadata": {
        "colab_type": "code",
        "outputId": "93b97689-520c-4e16-8bbd-a0a57ecb134a",
        "id": "_IWvSvHHC9uz",
        "colab": {
          "base_uri": "https://localhost:8080/",
          "height": 295
        }
      },
      "source": [
        "plt.plot(epochs_range, acc_values, 'bo', label='Training accuracy')\n",
        "plt.plot(epochs_range, test_acc_values, 'ro', label='Test accuracy')\n",
        "plt.title('Training and test accuracy')\n",
        "plt.xlabel('Epochs')\n",
        "plt.ylabel('Accuracy')\n",
        "plt.legend()\n",
        "plt.show()"
      ],
      "execution_count": 98,
      "outputs": [
        {
          "output_type": "display_data",
          "data": {
            "image/png": "[encoded data removed]",
            "text/plain": [
              "<Figure size 432x288 with 1 Axes>"
            ]
          },
          "metadata": {
            "tags": []
          }
        }
      ]
    }
  ]
}